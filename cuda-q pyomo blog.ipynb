{
 "cells": [
  {
   "cell_type": "markdown",
   "id": "ced1dc9b",
   "metadata": {},
   "source": [
    "# QAOA with Classiq and Cuda-Q\n",
    "\n",
    "This notebooks shows how to create a high level QAOA circuit using Classiq and execute this using NVIDIA's Cuda-q.\n",
    "Some handy resources: \n",
    " - [The QAOA example in the Classiq library](https://github.com/Classiq/classiq-library/blob/0.73.0/applications/optimization/max_cut/max_cut.ipynb), this will give a more detailed explanation of the different steps using Pyomo.\n",
    " - [QAOA example using Cuda-Q](https://nvidia.github.io/cuda-quantum/0.10.0/applications/python/qaoa.html)\n",
    "\n",
    " First install the needed packages"
   ]
  },
  {
   "cell_type": "code",
   "execution_count": null,
   "id": "M8aFhH0iSzSE",
   "metadata": {
    "id": "M8aFhH0iSzSE"
   },
   "outputs": [],
   "source": [
    "!pip install cudaq==0.10.0\n",
    "!pip install classiq==0.75.0"
   ]
  },
  {
   "cell_type": "code",
   "execution_count": null,
   "id": "91ffe2a8-b795-4bf1-b930-9ae5878340f6",
   "metadata": {
    "executionInfo": {
     "elapsed": 6040,
     "status": "ok",
     "timestamp": 1743421025255,
     "user": {
      "displayName": "Vincent van Wingerden",
      "userId": "07758395758052606456"
     },
     "user_tz": -120
    },
    "id": "91ffe2a8-b795-4bf1-b930-9ae5878340f6"
   },
   "outputs": [],
   "source": [
    "import cudaq\n",
    "from cudaq import spin\n",
    "import networkx as nx\n",
    "from matplotlib import pyplot as plt\n",
    "from classiq import *\n",
    "import math, random\n",
    "from classiq.applications.combinatorial_optimization import CombinatorialProblem, pyo_model_to_hamiltonian\n",
    "import pyomo.core as pyo\n",
    "import re"
   ]
  },
  {
   "cell_type": "markdown",
   "id": "2d26da0c",
   "metadata": {},
   "source": [
    "### Login to Classiq\n",
    "\n",
    "If you have not yet authenticated make sure that you login, you can do this by uncommenting the line below. If you do not yt have a Classiq account make sure you singup [here](https://platform.classiq.io/)."
   ]
  },
  {
   "cell_type": "code",
   "execution_count": null,
   "id": "303fa67d-08eb-44e9-974d-512bd63bd663",
   "metadata": {
    "colab": {
     "base_uri": "https://localhost:8080/"
    },
    "executionInfo": {
     "elapsed": 8159,
     "status": "ok",
     "timestamp": 1743421036773,
     "user": {
      "displayName": "Vincent van Wingerden",
      "userId": "07758395758052606456"
     },
     "user_tz": -120
    },
    "id": "303fa67d-08eb-44e9-974d-512bd63bd663",
    "outputId": "e90a866d-a72d-4a07-a8ed-db3b062ab9a3"
   },
   "outputs": [],
   "source": [
    "#authenticate(overwrite=True)"
   ]
  },
  {
   "cell_type": "markdown",
   "id": "1268abb8",
   "metadata": {},
   "source": [
    "### Create the problem"
   ]
  },
  {
   "cell_type": "code",
   "execution_count": null,
   "id": "22ecb191-2471-4fc1-a3f4-8d0978af388b",
   "metadata": {
    "executionInfo": {
     "elapsed": 17,
     "status": "ok",
     "timestamp": 1743421040348,
     "user": {
      "displayName": "Vincent van Wingerden",
      "userId": "07758395758052606456"
     },
     "user_tz": -120
    },
    "id": "22ecb191-2471-4fc1-a3f4-8d0978af388b"
   },
   "outputs": [],
   "source": [
    "# Classiq code\n",
    "# Create graph\n",
    "\n",
    "G = nx.Graph()\n",
    "nodes = [0, 1, 2, 3, 4]\n",
    "edges = [[0, 1], [1, 2], [2, 3], [3, 0], [2, 4], [3, 4]]\n",
    "\n",
    "G.add_nodes_from(nodes)\n",
    "G.add_edges_from(edges)\n",
    "\n",
    "pos = nx.planar_layout(G)\n",
    "nx.draw_networkx(G, pos=pos, with_labels=True, alpha=0.8, node_size=500)"
   ]
  },
  {
   "cell_type": "code",
   "execution_count": null,
   "id": "b721ac5b-fd72-4643-94c2-6e0ad5c22f00",
   "metadata": {
    "executionInfo": {
     "elapsed": 3,
     "status": "ok",
     "timestamp": 1743421804942,
     "user": {
      "displayName": "Vincent van Wingerden",
      "userId": "07758395758052606456"
     },
     "user_tz": -120
    },
    "id": "b721ac5b-fd72-4643-94c2-6e0ad5c22f00"
   },
   "outputs": [],
   "source": [
    "# Number of layers in the QAOA circuit\n",
    "NUM_LAYERS = 1"
   ]
  },
  {
   "cell_type": "markdown",
   "id": "87728f9a",
   "metadata": {},
   "source": [
    "The hamiltonian format that Classiq uses and NVIDIA uses are diffrent, therefore we will need to map the Classiq hamiltonian to one that can be used by Cuda-Q. \n",
    "This will be used later in the notebook."
   ]
  },
  {
   "cell_type": "code",
   "execution_count": null,
   "id": "d12bdadd-f6a2-4cb4-b687-061557f86e4a",
   "metadata": {
    "executionInfo": {
     "elapsed": 18,
     "status": "ok",
     "timestamp": 1743421805217,
     "user": {
      "displayName": "Vincent van Wingerden",
      "userId": "07758395758052606456"
     },
     "user_tz": -120
    },
    "id": "d12bdadd-f6a2-4cb4-b687-061557f86e4a"
   },
   "outputs": [],
   "source": [
    "my_list = {\"I\": Pauli.I, \"X\": Pauli.X, \"Y\": Pauli.Y, \"Z\": Pauli.Z}\n",
    "\n",
    "def enums_to_pauli_str(pauli_enums):\n",
    "    inverse_list = {v: k for k, v in my_list.items()}\n",
    "    return ''.join(inverse_list[p] for p in pauli_enums)\n",
    "\n",
    "def hamiltonian_to_pauli_list(hamiltonian):\n",
    "    return [\n",
    "        (enums_to_pauli_str(term.pauli), term.coefficient.real)\n",
    "        for term in hamiltonian\n",
    "    ]\n",
    "\n",
    "def classiq_hamiltonian_to_cudaq_spinOperator(hamiltonian):\n",
    "    pauli_list = hamiltonian_to_pauli_list(hamiltonian)\n",
    "\n",
    "    spin_hamiltonian = 0\n",
    "    for pauli in pauli_list:\n",
    "        spin_hamiltonian += (pauli[1] * cudaq.SpinOperator.from_word(pauli[0]))\n",
    "\n",
    "    return spin_hamiltonian"
   ]
  },
  {
   "cell_type": "markdown",
   "id": "76fd04d6",
   "metadata": {},
   "source": [
    "Create the Pyomo model for the Max-cut problem"
   ]
  },
  {
   "cell_type": "code",
   "execution_count": null,
   "id": "6ff4261c-cee7-41e8-8cdf-1d8671929403",
   "metadata": {
    "colab": {
     "base_uri": "https://localhost:8080/"
    },
    "executionInfo": {
     "elapsed": 80,
     "status": "ok",
     "timestamp": 1743422619354,
     "user": {
      "displayName": "Vincent van Wingerden",
      "userId": "07758395758052606456"
     },
     "user_tz": -120
    },
    "id": "6ff4261c-cee7-41e8-8cdf-1d8671929403",
    "outputId": "f22fd298-1de3-4a84-b700-a6d8cd20ae96"
   },
   "outputs": [],
   "source": [
    "def arithmetic_eq(x1: int, x2: int) -> int:\n",
    "    return x1 * (1 - x2) + x2 * (1 - x1)\n",
    "\n",
    "\n",
    "# we define a function which returns the pyomo model for a graph input\n",
    "def maxcut(graph: nx.Graph) -> pyo.ConcreteModel:\n",
    "    model = pyo.ConcreteModel()\n",
    "    model.x = pyo.Var(graph.nodes, domain=pyo.Binary)\n",
    "\n",
    "    model.cost = pyo.Objective(\n",
    "        expr=sum(\n",
    "            arithmetic_eq(model.x[node1], model.x[node2])\n",
    "            for (node1, node2) in graph.edges\n",
    "        ),\n",
    "        sense=pyo.maximize,\n",
    "    )\n",
    "\n",
    "    return model\n",
    "\n",
    "maxcut_model = maxcut(G)\n",
    "classiq_hamiltonian = pyo_model_to_hamiltonian(maxcut_model, penalty_energy=2)\n",
    "hamiltonian = classiq_hamiltonian_to_cudaq_spinOperator(classiq_hamiltonian)\n",
    "\n",
    "# print(hamiltonian)\n",
    "# print(classiq_hamiltonian)"
   ]
  },
  {
   "cell_type": "markdown",
   "id": "8ae33fca",
   "metadata": {},
   "source": [
    "Using the synthesis command, Classiq will create a gate based circuit from the max-cut model that was created using Pyomo."
   ]
  },
  {
   "cell_type": "code",
   "execution_count": null,
   "id": "bc319761-8109-4d45-9698-335599d3c41a",
   "metadata": {
    "executionInfo": {
     "elapsed": 12246,
     "status": "ok",
     "timestamp": 1743421820382,
     "user": {
      "displayName": "Vincent van Wingerden",
      "userId": "07758395758052606456"
     },
     "user_tz": -120
    },
    "id": "bc319761-8109-4d45-9698-335599d3c41a"
   },
   "outputs": [],
   "source": [
    "combi = CombinatorialProblem(pyo_model=maxcut_model, num_layers=NUM_LAYERS)\n",
    "qprog = combi.get_qprog()\n",
    "\n",
    "# show(qprog)"
   ]
  },
  {
   "cell_type": "markdown",
   "id": "b9218d6f",
   "metadata": {},
   "source": [
    "We will grab the QASM representation of the circuit. To later transform into a Cuda-Q kernel"
   ]
  },
  {
   "cell_type": "code",
   "execution_count": null,
   "id": "947cd3df-bd92-4182-b30a-970ca442c630",
   "metadata": {
    "executionInfo": {
     "elapsed": 520,
     "status": "ok",
     "timestamp": 1743421820901,
     "user": {
      "displayName": "Vincent van Wingerden",
      "userId": "07758395758052606456"
     },
     "user_tz": -120
    },
    "id": "947cd3df-bd92-4182-b30a-970ca442c630"
   },
   "outputs": [],
   "source": [
    "qprogram = QuantumProgram.from_qprog(qprog)\n",
    "raw_qasm = qprogram.transpiled_circuit.qasm\n",
    "\n",
    "qasm_lines = raw_qasm.splitlines()\n",
    "# print(qasm_lines)"
   ]
  },
  {
   "cell_type": "markdown",
   "id": "a0020228",
   "metadata": {},
   "source": [
    "This function will translate the QASM circuit into a Cuda-Q Kernel."
   ]
  },
  {
   "cell_type": "code",
   "execution_count": null,
   "id": "3651b5f7-0c59-445c-9ff9-a605ada263c4",
   "metadata": {
    "executionInfo": {
     "elapsed": 142,
     "status": "ok",
     "timestamp": 1743421821040,
     "user": {
      "displayName": "Vincent van Wingerden",
      "userId": "07758395758052606456"
     },
     "user_tz": -120
    },
    "id": "3651b5f7-0c59-445c-9ff9-a605ada263c4"
   },
   "outputs": [],
   "source": [
    "qaoa_kernel, params = cudaq.make_kernel(list[float])\n",
    "qubits = qaoa_kernel.qalloc(qprogram.data.width)\n",
    "\n",
    "for line in qasm_lines:\n",
    "    line = line.strip().strip(\";\")\n",
    "\n",
    "    # Parse gates with parameters like rz(0.25*params_param_0)\n",
    "    param_gate_match = re.match(r\"(rz|rx)\\((.+)\\) q\\[(\\d+)\\]\", line)\n",
    "    if param_gate_match:\n",
    "        gate, param, qubit = param_gate_match.groups()\n",
    "        param_index = int(param[-1])\n",
    "        if(gate == \"rz\"):\n",
    "            qaoa_kernel.rz(params[param_index] * float(param.split(\"*\")[0]),qubits[int(qubit)])\n",
    "\n",
    "        elif(gate == \"rx\"):\n",
    "            qaoa_kernel.rx(params[param_index],qubits[int(qubit)])\n",
    "\n",
    "        continue\n",
    "\n",
    "    # Parse gates without parameters: h, cx\n",
    "    simple_gate_match = re.match(r\"(h|cx) q\\[(\\d+)\\](, q\\[(\\d+)\\])?\", line)\n",
    "    if simple_gate_match:\n",
    "        gate, q1, _, q2 = simple_gate_match.groups()\n",
    "        if(gate == \"h\"):\n",
    "            qaoa_kernel.h(qubits[int(q1)])\n",
    "        args = [f\"q[{q1}]\"]\n",
    "        if q2:\n",
    "            qaoa_kernel.cx(qubits[int(q1)],qubits[int(q2)])"
   ]
  },
  {
   "cell_type": "code",
   "execution_count": null,
   "id": "717f3894-0c39-4c10-a665-4e2859a88522",
   "metadata": {
    "id": "717f3894-0c39-4c10-a665-4e2859a88522"
   },
   "outputs": [],
   "source": [
    "# print(cudaq.draw(qaoa_kernel,[0.1]* qprogram.data.width))"
   ]
  },
  {
   "cell_type": "markdown",
   "id": "8c222fc5",
   "metadata": {},
   "source": [
    "With Cuda-Q kerel and the right format hamiltonian we can now run the optimization to solve the max-cut progblem using Cuda-Q."
   ]
  },
  {
   "cell_type": "code",
   "execution_count": null,
   "id": "e90aa126-be35-471f-8371-0527ddfa2d90",
   "metadata": {
    "colab": {
     "base_uri": "https://localhost:8080/"
    },
    "executionInfo": {
     "elapsed": 755,
     "status": "ok",
     "timestamp": 1743422256314,
     "user": {
      "displayName": "Vincent van Wingerden",
      "userId": "07758395758052606456"
     },
     "user_tz": -120
    },
    "id": "e90aa126-be35-471f-8371-0527ddfa2d90",
    "outputId": "0cd8564f-0adc-4af9-a469-ffe95113810f"
   },
   "outputs": [],
   "source": [
    "# cudaq.set_target('nvidia') # If you have access to a GPU you can use this\n",
    "cudaq.set_target('qpp-cpu')\n",
    "\n",
    "qubit_count: int = qprogram.data.width\n",
    "parameter_count: int = 2 * NUM_LAYERS\n",
    "energies = []\n",
    "\n",
    "# Specify the optimizer and its initial parameters. Make it repeatable.\n",
    "# cudaq.set_random_seed(13)\n",
    "optimizer = cudaq.optimizers.COBYLA()\n",
    "optimizer.max_iterations = 30\n",
    "optimizer.initial_parameters = [random.uniform(-math.pi / 8.0, math.pi / 8.0) for _ in range(parameter_count)]\n",
    "print(\"Initial parameters = \", optimizer.initial_parameters)\n",
    "\n",
    "# Define the objective, return `<state(params) | H | state(params)>`\n",
    "def objective(parameters):\n",
    "    energy = cudaq.observe(qaoa_kernel, hamiltonian, parameters).expectation()\n",
    "    energies.append(energy)\n",
    "    return energy\n",
    "\n",
    "# Optimize!\n",
    "optimal_expectation, optimal_parameters = optimizer.optimize(\n",
    "    dimensions=parameter_count, function=objective)\n",
    "\n",
    "# Print the optimized value and its parameters\n",
    "print(\"Optimal value = \", optimal_expectation)\n",
    "print(\"Optimal parameters = \", optimal_parameters)\n",
    "\n",
    "# Sample the circuit using the optimized parameters\n",
    "counts = cudaq.sample(qaoa_kernel, optimal_parameters)\n",
    "print(counts)"
   ]
  },
  {
   "cell_type": "markdown",
   "id": "d0b55cae",
   "metadata": {},
   "source": [
    "Execute the circuit with the optimal parameters to look at the solution that is measured most."
   ]
  },
  {
   "cell_type": "code",
   "execution_count": null,
   "id": "58ae2a66-009d-4c61-91df-ce4d691c2b3e",
   "metadata": {
    "colab": {
     "base_uri": "https://localhost:8080/"
    },
    "executionInfo": {
     "elapsed": 4,
     "status": "ok",
     "timestamp": 1743422267034,
     "user": {
      "displayName": "Vincent van Wingerden",
      "userId": "07758395758052606456"
     },
     "user_tz": -120
    },
    "id": "58ae2a66-009d-4c61-91df-ce4d691c2b3e",
    "outputId": "e771b092-9428-4689-8067-dc5f73c2cd86"
   },
   "outputs": [],
   "source": [
    "large_counts = cudaq.sample(qaoa_kernel, optimal_parameters, shots_count=200000)\n",
    "\n",
    "sorted_items = sorted(large_counts.items(), key=lambda item: item[1], reverse=True)\n",
    "\n",
    "# Print the top 5 entries\n",
    "for key, value in sorted_items[:5]:\n",
    "    print(f\"{key}: {value}\")"
   ]
  },
  {
   "cell_type": "markdown",
   "id": "d135f25e",
   "metadata": {},
   "source": [
    "Plot the convergence "
   ]
  },
  {
   "cell_type": "code",
   "execution_count": null,
   "id": "1faf2a50-5c76-4f03-bb62-78a5010406ce",
   "metadata": {
    "colab": {
     "base_uri": "https://localhost:8080/",
     "height": 507
    },
    "executionInfo": {
     "elapsed": 235,
     "status": "ok",
     "timestamp": 1743422267585,
     "user": {
      "displayName": "Vincent van Wingerden",
      "userId": "07758395758052606456"
     },
     "user_tz": -120
    },
    "id": "1faf2a50-5c76-4f03-bb62-78a5010406ce",
    "outputId": "e1390166-75f9-455a-ac77-984abc3cd2fc"
   },
   "outputs": [],
   "source": [
    "def plot_energies(energies):\n",
    "    plt.figure(figsize=(8, 5))\n",
    "    plt.plot(energies, marker='o')\n",
    "    plt.title(\"QAOA Energies\")\n",
    "    plt.xlabel(\"Iteration\")\n",
    "    plt.ylabel(\"Energy\")\n",
    "    plt.grid(True)\n",
    "    plt.tight_layout()\n",
    "    plt.show()\n",
    "\n",
    "\n",
    "plot_energies(energies=energies)"
   ]
  },
  {
   "cell_type": "code",
   "execution_count": null,
   "id": "7AoskTaX1RnZ",
   "metadata": {
    "id": "7AoskTaX1RnZ"
   },
   "outputs": [],
   "source": []
  }
 ],
 "metadata": {
  "accelerator": "GPU",
  "colab": {
   "gpuType": "T4",
   "provenance": []
  },
  "kernelspec": {
   "display_name": "Python 3",
   "name": "python3"
  },
  "language_info": {
   "codemirror_mode": {
    "name": "ipython",
    "version": 3
   },
   "file_extension": ".py",
   "mimetype": "text/x-python",
   "name": "python",
   "nbconvert_exporter": "python",
   "pygments_lexer": "ipython3",
   "version": "3.11.9"
  }
 },
 "nbformat": 4,
 "nbformat_minor": 5
}
